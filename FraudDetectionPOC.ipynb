{
 "cells": [
  {
   "cell_type": "code",
   "execution_count": 22,
   "id": "f3d1e2dc-8654-4c5f-8560-2d603e8c2168",
   "metadata": {
    "execution": {
     "iopub.execute_input": "2024-04-03T21:38:38.024743Z",
     "iopub.status.busy": "2024-04-03T21:38:38.024461Z",
     "iopub.status.idle": "2024-04-03T21:38:38.075181Z",
     "shell.execute_reply": "2024-04-03T21:38:38.074631Z",
     "shell.execute_reply.started": "2024-04-03T21:38:38.024719Z"
    }
   },
   "outputs": [],
   "source": [
    "import os\n",
    "from pathlib import Path\n",
    "import zipfile\n",
    "import urllib\n",
    "import opendatasets as od\n",
    "import pandas as pd\n",
    "from sklearn.model_selection import cross_val_score, train_test_split\n",
    "from sklearn.linear_model import LogisticRegression"
   ]
  },
  {
   "cell_type": "code",
   "execution_count": 26,
   "id": "6af09c16-4ac4-47d7-a3e1-b050302ed61f",
   "metadata": {
    "execution": {
     "iopub.execute_input": "2024-04-03T21:42:49.088548Z",
     "iopub.status.busy": "2024-04-03T21:42:49.088231Z",
     "iopub.status.idle": "2024-04-03T21:42:49.093493Z",
     "shell.execute_reply": "2024-04-03T21:42:49.092778Z",
     "shell.execute_reply.started": "2024-04-03T21:42:49.088527Z"
    }
   },
   "outputs": [],
   "source": [
    "path = 'data/credit-data.csv'\n",
    "isExisting = os.path.exists(path)\n",
    "\n",
    "if not isExisting:\n",
    "    od.download(\n",
    "        \"https://www.kaggle.com/datasets/kelvinkelue/credit-card-fraud-prediction/download?datasetVersionNumber=1\")\n",
    "    Path(\"data/\").mkdir(parents=True, exist_ok=True)\n",
    "    !mv \"credit-card-fraud-prediction/fraud test.csv\" \"data/credit-data.csv\"\n",
    "    !rm \"credit-card-fraud-prediction\""
   ]
  },
  {
   "cell_type": "code",
   "execution_count": 28,
   "id": "49af31ae-5c74-431c-b989-f4a712a992d2",
   "metadata": {
    "execution": {
     "iopub.execute_input": "2024-04-03T21:43:24.140603Z",
     "iopub.status.busy": "2024-04-03T21:43:24.140297Z",
     "iopub.status.idle": "2024-04-03T21:43:25.807931Z",
     "shell.execute_reply": "2024-04-03T21:43:25.807357Z",
     "shell.execute_reply.started": "2024-04-03T21:43:24.140577Z"
    }
   },
   "outputs": [],
   "source": [
    "file= 'data/credit-data.csv'\n",
    "fraud_data = pd.read_csv(file)"
   ]
  },
  {
   "cell_type": "code",
   "execution_count": 29,
   "id": "cae5fbe0-479f-4929-9902-2ea1fd821297",
   "metadata": {
    "execution": {
     "iopub.execute_input": "2024-04-03T21:43:27.610707Z",
     "iopub.status.busy": "2024-04-03T21:43:27.610466Z",
     "iopub.status.idle": "2024-04-03T21:43:46.046808Z",
     "shell.execute_reply": "2024-04-03T21:43:46.045938Z",
     "shell.execute_reply.started": "2024-04-03T21:43:27.610690Z"
    }
   },
   "outputs": [
    {
     "name": "stdout",
     "output_type": "stream",
     "text": [
      "----------------------Typy danych\n",
      "trans_date_trans_time     object\n",
      "cc_num                   float64\n",
      "merchant                  object\n",
      "category                  object\n",
      "amt                      float64\n",
      "first                     object\n",
      "last                      object\n",
      "gender                    object\n",
      "street                    object\n",
      "city                      object\n",
      "state                     object\n",
      "zip                        int64\n",
      "lat                      float64\n",
      "long                     float64\n",
      "city_pop                   int64\n",
      "job                       object\n",
      "dob                       object\n",
      "trans_num                 object\n",
      "unix_time                  int64\n",
      "merch_lat                float64\n",
      "merch_long               float64\n",
      "is_fraud                   int64\n",
      "dtype: object\n",
      "----------------------Statystyki dla kolumn numerycznych\n",
      "             cc_num            amt            zip            lat  \\\n",
      "count  5.557190e+05  555719.000000  555719.000000  555719.000000   \n",
      "mean   4.178387e+17      69.392810   48842.628015      38.543253   \n",
      "std    1.309837e+18     156.745941   26855.283328       5.061336   \n",
      "min    6.041621e+10       1.000000    1257.000000      20.027100   \n",
      "25%    1.800430e+14       9.630000   26292.000000      34.668900   \n",
      "50%    3.521420e+15      47.290000   48174.000000      39.371600   \n",
      "75%    4.635330e+15      83.010000   72011.000000      41.894800   \n",
      "max    4.992350e+18   22768.110000   99921.000000      65.689900   \n",
      "\n",
      "                long      city_pop     unix_time      merch_lat  \\\n",
      "count  555719.000000  5.557190e+05  5.557190e+05  555719.000000   \n",
      "mean      -90.231325  8.822189e+04  1.380679e+09      38.542798   \n",
      "std        13.721780  3.003909e+05  5.201104e+06       5.095829   \n",
      "min      -165.672300  2.300000e+01  1.371817e+09      19.027422   \n",
      "25%       -96.798000  7.410000e+02  1.376029e+09      34.755302   \n",
      "50%       -87.476900  2.408000e+03  1.380762e+09      39.376593   \n",
      "75%       -80.175200  1.968500e+04  1.385867e+09      41.954163   \n",
      "max       -67.950300  2.906700e+06  1.388534e+09      66.679297   \n",
      "\n",
      "          merch_long       is_fraud  \n",
      "count  555719.000000  555719.000000  \n",
      "mean      -90.231380       0.003860  \n",
      "std        13.733071       0.062008  \n",
      "min      -166.671575       0.000000  \n",
      "25%       -96.905129       0.000000  \n",
      "50%       -87.445204       0.000000  \n",
      "75%       -80.264637       0.000000  \n",
      "max       -66.952026       1.000000  \n"
     ]
    },
    {
     "name": "stderr",
     "output_type": "stream",
     "text": [
      "/tmp/ipykernel_12459/2226741863.py:17: UserWarning: Parsing dates in %d/%m/%Y %H:%M format when dayfirst=False (the default) was specified. Pass `dayfirst=True` or specify a format to silence this warning.\n",
      "  columns_trans_date = pd.to_numeric(pd.to_datetime(fraud_data['trans_date_trans_time']))\n"
     ]
    },
    {
     "name": "stdout",
     "output_type": "stream",
     "text": [
      "[0.99614914 0.99614914 0.99614914 0.99614914 0.99613115 0.99613115\n",
      " 0.99613115 0.99613115 0.99613115 0.99614907]\n"
     ]
    }
   ],
   "source": [
    "\n",
    "#Usuwamy kolumne z liczba porzadkowa\n",
    "fraud_data.drop('Unnamed: 0', axis=1, inplace=True)\n",
    "\n",
    "#Tu printujemy analizę danych, przyda się przy opracowywaniu modelu\n",
    "\n",
    "#Zwracamy typy danych dla każdej kolumny, przydatne przy przygotowywaniu danych\n",
    "print(\"----------------------Typy danych\")\n",
    "print(fraud_data.dtypes) \n",
    "\n",
    "#Zwraca statystyki dla kolumny numerycznych jak średnia mediana itp, to może się przydać do oczyszczania danych numerycznych\n",
    "print(\"----------------------Statystyki dla kolumn numerycznych\")\n",
    "print(fraud_data.describe()) \n",
    "\n",
    "#Tu przekształcamy kolumny z typów ogólnych na takie, które mogą być użyte przy uczeniu\n",
    "\n",
    "#konwertuję datę najpierw na datetime, a potem datetime przekształcam na typ numeryczny\n",
    "columns_trans_date = pd.to_numeric(pd.to_datetime(fraud_data['trans_date_trans_time']))\n",
    "\n",
    "## TODO: Trzeba zrobić tak dla reszty kolumn, które na ten moment są dropnięte, część pewnie trzeba podzielić na kategoryczne, część, zgrupować, a części może faktycznie się pozbyć \n",
    "\n",
    "\n",
    "#Usuwamy niepotrzebne już kolmuny (lub wywołujące teraz błędy)\n",
    "fraud_data.drop('trans_date_trans_time', axis=1, inplace=True)\n",
    "fraud_data.drop('merchant', axis=1, inplace=True)\n",
    "fraud_data.drop('category', axis=1, inplace=True)\n",
    "fraud_data.drop('first', axis=1, inplace=True)\n",
    "fraud_data.drop('last', axis=1, inplace=True)\n",
    "fraud_data.drop('gender', axis=1, inplace=True)\n",
    "fraud_data.drop('street', axis=1, inplace=True)\n",
    "fraud_data.drop('city', axis=1, inplace=True)\n",
    "fraud_data.drop('state', axis=1, inplace=True)\n",
    "fraud_data.drop('job', axis=1, inplace=True)\n",
    "fraud_data.drop('dob', axis=1, inplace=True)\n",
    "fraud_data.drop('trans_num', axis=1, inplace=True)\n",
    "\n",
    "#dodajemy przetworzone kolumny\n",
    "fraud_data = pd.concat([fraud_data,columns_trans_date], axis=1)\n",
    "\n",
    "toPredict = fraud_data['is_fraud']\n",
    "fraud_data.drop('is_fraud', axis=1, inplace=True)\n",
    "\n",
    "#Definiujemy użyty model, w tym wypadku regresja logistyczna\n",
    "model = LogisticRegression(max_iter=1000)\n",
    "\n",
    "#To teoretycznie oblicza wyniki uczenia, jako estymator daję model, dane i zmienną do przewidzenia, cv to definicja że ma być użyte 10-fold, oraz wynik na jakim się skupiamy to dokładność\n",
    "## TODO chociaż coś tu jest ewidentnie nie tak, wywaliłem prawie wszystko i mam 99% dokładności xD Nie wiem o co tu chodzi ale trzeba sprawdzić\n",
    "scores = cross_val_score(model, fraud_data, toPredict, cv=10, scoring='accuracy')\n",
    "print(scores)"
   ]
  }
 ],
 "metadata": {
  "kernelspec": {
   "display_name": "Python 3 (ipykernel)",
   "language": "python",
   "name": "python3"
  },
  "language_info": {
   "codemirror_mode": {
    "name": "ipython",
    "version": 3
   },
   "file_extension": ".py",
   "mimetype": "text/x-python",
   "name": "python",
   "nbconvert_exporter": "python",
   "pygments_lexer": "ipython3",
   "version": "3.10.12"
  }
 },
 "nbformat": 4,
 "nbformat_minor": 5
}
